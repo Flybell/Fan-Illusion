{
 "cells": [
  {
   "cell_type": "markdown",
   "metadata": {},
   "source": [
    "Welcome to Lynn's master's thesis. \n",
    "If you run the python code below, a window will pop up with the \"fan illusion.\""
   ]
  },
  {
   "cell_type": "code",
   "execution_count": 3,
   "metadata": {},
   "outputs": [
    {
     "name": "stdout",
     "output_type": "stream",
     "text": [
      "43.7544 \tWARNING \tMonitor specification not found. Creating a temporary one...\n"
     ]
    },
    {
     "ename": "SystemExit",
     "evalue": "0",
     "output_type": "error",
     "traceback": [
      "An exception has occurred, use %tb to see the full traceback.\n",
      "\u001b[1;31mSystemExit\u001b[0m\u001b[1;31m:\u001b[0m 0\n"
     ]
    }
   ],
   "source": [
    "from psychopy import visual, core, event\n",
    "\n",
    "win = visual.Window([600, 600], color = \"white\")\n",
    "\n",
    "small_blade = visual.RadialStim(\n",
    "    win = win,\n",
    "    color= 1,\n",
    "    visibleWedge= [0,15],\n",
    "    radialCycles= 0,\n",
    "    angularCycles= 6,\n",
    ")\n",
    "\n",
    "big_blade = visual.RadialStim(\n",
    "    win=win,\n",
    "    color=1,\n",
    "    visibleWedge=[0,30],\n",
    "    radialCycles=0,\n",
    "    angularCycles=3,\n",
    ")\n",
    "\n",
    "def draw_small_blade():\n",
    "    angles = [0, 90, 180, 270]\n",
    "    for n in angles:\n",
    "        small_blade.ori = n + t * rotationRate * 360.0\n",
    "        small_blade.draw()\n",
    "\n",
    "def draw_big_blade():\n",
    "    angles = [0, 90, 180, 270]\n",
    "    for n in angles:\n",
    "        big_blade.ori = n\n",
    "        big_blade.draw()\n",
    "\n",
    "clock = core.Clock()\n",
    "rotationRate = 0.1\n",
    "\n",
    "while not event.getKeys():\n",
    "    t = clock.getTime()\n",
    "    draw_small_blade()\n",
    "    draw_big_blade()\n",
    "    win.flip()\n",
    "\n",
    "win.close()\n",
    "core.quit()\n",
    "\n"
   ]
  },
  {
   "cell_type": "code",
   "execution_count": null,
   "metadata": {},
   "outputs": [],
   "source": []
  }
 ],
 "metadata": {
  "kernelspec": {
   "display_name": "PsychoPyEnv",
   "language": "python",
   "name": "psychopyenv"
  },
  "language_info": {
   "codemirror_mode": {
    "name": "ipython",
    "version": 3
   },
   "file_extension": ".py",
   "mimetype": "text/x-python",
   "name": "python",
   "nbconvert_exporter": "python",
   "pygments_lexer": "ipython3",
   "version": "3.8.2"
  }
 },
 "nbformat": 4,
 "nbformat_minor": 4
}
